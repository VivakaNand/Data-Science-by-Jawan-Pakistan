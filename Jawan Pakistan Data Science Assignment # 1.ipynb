{
 "cells": [
  {
   "cell_type": "markdown",
   "id": "98355f3f",
   "metadata": {},
   "source": [
    "### Assignment No : 01"
   ]
  },
  {
   "cell_type": "markdown",
   "id": "b79b9c5e",
   "metadata": {},
   "source": [
    "#### 1. Write a Python program to print the following string in a specific format (see the output).\n",
    "\n",
    "              Twinkle, twinkle, little star, \n",
    "                       How I wonder what you are! \n",
    "                                Up above the world so high, \n",
    "                                Like a diamond in the sky. \n",
    "               Twinkle, twinkle, little star, \n",
    "                       How I wonder what you are"
   ]
  },
  {
   "cell_type": "code",
   "execution_count": 2,
   "id": "3b374de6",
   "metadata": {},
   "outputs": [
    {
     "name": "stdout",
     "output_type": "stream",
     "text": [
      "Twinkle, twinkle, little star,\n",
      "\tHow I wonder what you are!\n",
      "\t\tUp above the world so high, \n",
      "\t\tLike a diamond in the sky.\n",
      "Twinkle, twinkle, little star, \n",
      "\tHow I wonder what you are\n"
     ]
    }
   ],
   "source": [
    "print(\"Twinkle, twinkle, little star,\\n\\tHow I wonder what you are!\\n\\t\\tUp above the world so high, \\n\\t\\tLike a diamond in the sky.\\nTwinkle, twinkle, little star, \\n\\tHow I wonder what you are\")"
   ]
  },
  {
   "cell_type": "markdown",
   "id": "53e35206",
   "metadata": {},
   "source": [
    "#### 2. Write a Python program to get Python version you are using"
   ]
  },
  {
   "cell_type": "code",
   "execution_count": 6,
   "id": "97ad1f9d",
   "metadata": {},
   "outputs": [
    {
     "data": {
      "text/plain": [
       "'3.8.8 (default, Apr 13 2021, 15:08:03) [MSC v.1916 64 bit (AMD64)]'"
      ]
     },
     "execution_count": 6,
     "metadata": {},
     "output_type": "execute_result"
    }
   ],
   "source": [
    "import sys\n",
    "sys.version"
   ]
  },
  {
   "cell_type": "markdown",
   "id": "3062bab1",
   "metadata": {},
   "source": [
    "#### 3. Write a Python program to display the current date and time.\n"
   ]
  },
  {
   "cell_type": "code",
   "execution_count": 10,
   "id": "549af3a9",
   "metadata": {},
   "outputs": [
    {
     "data": {
      "text/plain": [
       "datetime.datetime(2021, 12, 31, 18, 58, 35, 147463)"
      ]
     },
     "execution_count": 10,
     "metadata": {},
     "output_type": "execute_result"
    }
   ],
   "source": [
    "import datetime\n",
    "datetime.datetime.now()"
   ]
  },
  {
   "cell_type": "markdown",
   "id": "f42251b7",
   "metadata": {},
   "source": [
    "#### 4. Write a Python program which accepts the redius of circle from the user and compute the area\n"
   ]
  },
  {
   "cell_type": "code",
   "execution_count": 17,
   "id": "9b6dbf0d",
   "metadata": {},
   "outputs": [
    {
     "name": "stdout",
     "output_type": "stream",
     "text": [
      "Enter radius of circle: 4\n",
      "50.265\n"
     ]
    }
   ],
   "source": [
    "import math\n",
    "r = float(input('Enter radius of circle: '))\n",
    "pi = math.pi\n",
    "a = pi*r**2\n",
    "print(round(a,3))"
   ]
  },
  {
   "cell_type": "markdown",
   "id": "994b66e7",
   "metadata": {},
   "source": [
    "#### 5. Write a Python program which accepts the user's first and last name and print them in reverse order with a space between them.\n"
   ]
  },
  {
   "cell_type": "code",
   "execution_count": 18,
   "id": "c2237b9f",
   "metadata": {},
   "outputs": [
    {
     "name": "stdout",
     "output_type": "stream",
     "text": [
      "Enter first name:Vivaka\n",
      "Enter last name:Nand\n",
      "Nand Vivaka\n"
     ]
    }
   ],
   "source": [
    "fst_nam = input('Enter first name:')\n",
    "lst_nam = input('Enter last name:')\n",
    "print(lst_nam + ' ' + fst_nam)"
   ]
  },
  {
   "cell_type": "markdown",
   "id": "985de336",
   "metadata": {},
   "source": [
    "#### 6. Write a python program wich takes two inputs from user and print them addition."
   ]
  },
  {
   "cell_type": "code",
   "execution_count": 19,
   "id": "4e7cc61f",
   "metadata": {},
   "outputs": [
    {
     "name": "stdout",
     "output_type": "stream",
     "text": [
      "Enter first number:5\n",
      "Enter last number:6\n",
      "11\n"
     ]
    }
   ],
   "source": [
    "fst_num = int(input('Enter first number:'))\n",
    "lst_num = int(input('Enter last number:'))\n",
    "print(fst_num + lst_num)"
   ]
  },
  {
   "cell_type": "code",
   "execution_count": null,
   "id": "31d07d30",
   "metadata": {},
   "outputs": [],
   "source": []
  }
 ],
 "metadata": {
  "kernelspec": {
   "display_name": "Python 3",
   "language": "python",
   "name": "python3"
  },
  "language_info": {
   "codemirror_mode": {
    "name": "ipython",
    "version": 3
   },
   "file_extension": ".py",
   "mimetype": "text/x-python",
   "name": "python",
   "nbconvert_exporter": "python",
   "pygments_lexer": "ipython3",
   "version": "3.8.8"
  }
 },
 "nbformat": 4,
 "nbformat_minor": 5
}
